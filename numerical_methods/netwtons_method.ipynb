{
 "cells": [
  {
   "cell_type": "markdown",
   "metadata": {},
   "source": [
    "#### Newton's Method\n",
    "Use Newton's method with Jax autodifferentiation to solve for the zeros of a nonlinear function"
   ]
  },
  {
   "cell_type": "markdown",
   "metadata": {},
   "source": [
    "#### Preliminaries"
   ]
  },
  {
   "cell_type": "code",
   "execution_count": 1,
   "metadata": {},
   "outputs": [],
   "source": [
    "# load some packages\n",
    "import matplotlib.pyplot as plt\n",
    "import jax.numpy as jnp\n",
    "import warnings\n",
    "import jax\n",
    "jax.config.update('jax_enable_x64', True)  # jax uses 32 bit numbers for some reason"
   ]
  },
  {
   "cell_type": "markdown",
   "metadata": {},
   "source": [
    "#### 1D Implementation\n",
    "The OG Newton's method solves 1D problems.\n",
    "\n",
    "We start with an initial guess $x_0$ and iterate such that\n",
    "$$\n",
    "x_n = x_{n-1} - \\frac{f(x_{n-1})}{f'(x_{n-1})}\n",
    "$$\n",
    "until two successive guesses are within some tolerance of each other."
   ]
  },
  {
   "cell_type": "code",
   "execution_count": 70,
   "metadata": {},
   "outputs": [
    {
     "name": "stdout",
     "output_type": "stream",
     "text": [
      "407 μs ± 3.54 μs per loop (mean ± std. dev. of 7 runs, 1,000 loops each)\n",
      "-0.9999999925494194 -0.8414709807823306\n",
      "1.94 ms ± 18.1 μs per loop (mean ± std. dev. of 7 runs, 100 loops each)\n",
      "-0.9999999925494194 0.5403023121375871\n",
      "8.27 ms ± 199 μs per loop (mean ± std. dev. of 7 runs, 100 loops each)\n",
      "-0.9999999925494194 -9.632120556087642\n",
      "32 ms ± 663 μs per loop (mean ± std. dev. of 7 runs, 10 loops each)\n",
      "-0.9999999925494194 0.0\n"
     ]
    }
   ],
   "source": [
    "def newtons_method_1d(f, x0=0., tol=1e-16, maxiter=1000):\n",
    "    '''\n",
    "    Uses Newton's method to find zeros of a 1D function\n",
    "    '''\n",
    "    # get derivative function\n",
    "    df = jax.grad(f)\n",
    "\n",
    "    # initial conditions\n",
    "    x = x_l = x0\n",
    "    for _ in range(maxiter):\n",
    "        # update rule\n",
    "        x, x_l = x - f(x) / df(x), x\n",
    "\n",
    "        # exit condition\n",
    "        if jnp.abs(x - x_l) < tol:\n",
    "            break\n",
    "    else:\n",
    "        warnings.warn('Max iteration count exceeded')\n",
    "    \n",
    "    return x\n",
    "\n",
    "## test cases\n",
    "# sin\n",
    "f = jnp.sin\n",
    "%timeit x = newtons_method_1d(f)\n",
    "print(x, f(x))\n",
    "\n",
    "# cos\n",
    "f = jnp.cos\n",
    "%timeit x = newtons_method_1d(f, 1.)  # needs to be 1 since df(0) = 0\n",
    "print(x, f(x))\n",
    "\n",
    "# exp\n",
    "f = lambda x: jnp.exp(x) - 10\n",
    "%timeit x = newtons_method_1d(f)\n",
    "print(x, f(x))\n",
    "\n",
    "# polynomial\n",
    "f = lambda x: x**2 + 2*x + 1\n",
    "%timeit x = newtons_method_1d(f)\n",
    "print(x, f(x))"
   ]
  },
  {
   "cell_type": "markdown",
   "metadata": {},
   "source": [
    "#### Higher Dimensional Implementation\n",
    "We can also implement the same method in higher dimensions using the Jacobian $J_F$. The update rule then becomes\n",
    "$$\n",
    "\\vec{x_n} = \\vec{x_{n-1}} - J_F(\\vec{x_{n-1}})^{-1} F(\\vec{x_{n-1}})\n",
    "$$"
   ]
  },
  {
   "cell_type": "code",
   "execution_count": 3,
   "metadata": {},
   "outputs": [],
   "source": [
    "def newtons_method_inv(F, x0, tol=1e-10, maxiter=1000):\n",
    "    '''\n",
    "    Uses Newton's method to find zeros of a higher dimensional function\n",
    "    '''\n",
    "    # get derivative function\n",
    "    jac = jax.jacfwd(F)\n",
    "\n",
    "    # initial conditions\n",
    "    X = X_l = x0  # x0 has to be defined so we know the sixe of input \n",
    "    for _ in range(maxiter):\n",
    "        # update rule\n",
    "        X, X_l = X - jnp.linalg.inv(jac(X)) @ F(X), X\n",
    "\n",
    "        # exit condition\n",
    "        if jnp.abs(X - X_l).max() < tol:\n",
    "            break\n",
    "    else:\n",
    "        warnings.warn('Max iteration count exceeded')\n",
    "    \n",
    "    return X"
   ]
  },
  {
   "cell_type": "markdown",
   "metadata": {},
   "source": [
    "Since $J_F(\\vec{x_{n-1}})^{-1} F(\\vec{x_{n-1}})$ is the solution to $J_F(\\vec{x_{n-1}}) \\vec{x} =  F(\\vec{x_{n-1}})$ we can also write this using the `solve` or `lstsq` method."
   ]
  },
  {
   "cell_type": "code",
   "execution_count": 4,
   "metadata": {},
   "outputs": [],
   "source": [
    "def newtons_method_solve(F, X0, tol=1e-10, maxiter=1000):\n",
    "    '''\n",
    "    Uses Newton's method to find zeros of a higher dimensional function\n",
    "    '''\n",
    "    # get derivative function\n",
    "    jac = jax.jacfwd(F)\n",
    "\n",
    "    # initial conditions\n",
    "    X = X_l = X0  # x0 has to be defined so we know the sixe of inputt\n",
    "    for _ in range(maxiter):\n",
    "        # update rule\n",
    "        X, X_l = X - jnp.linalg.lstsq(jac(X), F(X))[0], X\n",
    "\n",
    "        # exit condition\n",
    "        if jnp.abs(X - X_l).max() < tol:\n",
    "            break\n",
    "    else:\n",
    "        warnings.warn('Max iteration count exceeded')\n",
    "    \n",
    "    return X"
   ]
  },
  {
   "cell_type": "markdown",
   "metadata": {},
   "source": [
    "Finally, both of these methods can be updated to use the `@jax.jit` tag to make them faster for larger systems."
   ]
  },
  {
   "cell_type": "code",
   "execution_count": 5,
   "metadata": {},
   "outputs": [],
   "source": [
    "def newtons_method_inv_jit(F, x0, tol=1e-10, maxiter=1000):\n",
    "    '''\n",
    "    Uses Newton's method to find zeros of a higher dimensional function\n",
    "    '''\n",
    "    # get derivative function\n",
    "    jac = jax.jacfwd(F)\n",
    "\n",
    "    # update rule\n",
    "    @jax.jit\n",
    "    def q(X):\n",
    "        return X - jnp.linalg.inv(jac(X)) @ F(X)\n",
    "\n",
    "    # initial conditions\n",
    "    X = X_l = x0  # x0 has to be defined so we know the sixe of inputt\n",
    "    for _ in range(maxiter):\n",
    "        # update rule\n",
    "        X, X_l = q(X), X\n",
    "\n",
    "        # exit condition\n",
    "        if jnp.abs(X - X_l).max() < tol:\n",
    "            break\n",
    "    else:\n",
    "        warnings.warn('Max iteration count exceeded')\n",
    "    \n",
    "    return X\n",
    "\n",
    "\n",
    "def newtons_method_solve_jit(F, x0, tol=1e-10, maxiter=1000):\n",
    "    '''\n",
    "    Uses Newton's method to find zeros of a higher dimensional function\n",
    "    '''\n",
    "    # get derivative function\n",
    "    jac = jax.jacfwd(F)\n",
    "\n",
    "    # update rule\n",
    "    @jax.jit\n",
    "    def q(X):\n",
    "        return X - jnp.linalg.lstsq(jac(X), F(X))[0]\n",
    "\n",
    "    # initial conditions\n",
    "    X = X_l = x0  # x0 has to be defined so we know the sixe of inputt\n",
    "    for _ in range(maxiter):\n",
    "        # update rule\n",
    "        X, X_l = q(X), X\n",
    "\n",
    "        # exit condition\n",
    "        if jnp.abs(X - X_l).max() < tol:\n",
    "            break\n",
    "    else:\n",
    "        warnings.warn('Max iteration count exceeded')\n",
    "    \n",
    "    return X"
   ]
  },
  {
   "cell_type": "code",
   "execution_count": 6,
   "metadata": {},
   "outputs": [
    {
     "name": "stdout",
     "output_type": "stream",
     "text": [
      "28.8 ms ± 914 μs per loop (mean ± std. dev. of 7 runs, 1 loop each)\n",
      "28.5 ms ± 961 μs per loop (mean ± std. dev. of 7 runs, 10 loops each)\n",
      "53.8 ms ± 184 μs per loop (mean ± std. dev. of 7 runs, 10 loops each)\n",
      "38.4 ms ± 253 μs per loop (mean ± std. dev. of 7 runs, 10 loops each)\n"
     ]
    }
   ],
   "source": [
    "def F(X):\n",
    "    return jnp.array([\n",
    "            5*X[0]**2 + X[0]*X[1]**2 * jnp.sin(2*X[1])**2 - 2,\n",
    "            jnp.exp(X[0] - X[1]) + 4 * X[1] - 3\n",
    "        ])\n",
    "%timeit newtons_method_inv(F, jnp.ones(2))\n",
    "%timeit newtons_method_solve(F, jnp.ones(2))\n",
    "%timeit newtons_method_inv_jit(F, jnp.ones(2))\n",
    "%timeit newtons_method_solve_jit(F, jnp.ones(2))"
   ]
  },
  {
   "cell_type": "code",
   "execution_count": 7,
   "metadata": {},
   "outputs": [
    {
     "name": "stdout",
     "output_type": "stream",
     "text": [
      "12.7 ms ± 371 μs per loop (mean ± std. dev. of 7 runs, 1 loop each)\n",
      "12.1 ms ± 184 μs per loop (mean ± std. dev. of 7 runs, 100 loops each)\n",
      "71.4 ms ± 311 μs per loop (mean ± std. dev. of 7 runs, 10 loops each)\n",
      "54.3 ms ± 698 μs per loop (mean ± std. dev. of 7 runs, 10 loops each)\n"
     ]
    }
   ],
   "source": [
    "def F(X):\n",
    "    return (jnp.outer(X, jnp.cos(X[::-1])+jnp.linspace(1, 2, 12))**(-1)).sum(axis=0) - jnp.prod(X)\n",
    "%timeit newtons_method_inv(F, jnp.ones(12))\n",
    "%timeit newtons_method_solve(F, jnp.ones(12))\n",
    "%timeit newtons_method_inv_jit(F, jnp.ones(12))\n",
    "%timeit newtons_method_solve_jit(F, jnp.ones(12))"
   ]
  },
  {
   "cell_type": "code",
   "execution_count": 8,
   "metadata": {},
   "outputs": [
    {
     "name": "stdout",
     "output_type": "stream",
     "text": [
      "18.7 ms ± 162 μs per loop (mean ± std. dev. of 7 runs, 1 loop each)\n",
      "19 ms ± 22.5 μs per loop (mean ± std. dev. of 7 runs, 10 loops each)\n",
      "64.2 ms ± 285 μs per loop (mean ± std. dev. of 7 runs, 10 loops each)\n",
      "44.2 ms ± 383 μs per loop (mean ± std. dev. of 7 runs, 10 loops each)\n"
     ]
    }
   ],
   "source": [
    "def F(X):\n",
    "    return jnp.exp(X * jnp.hstack((X[1:], X[0]))) - 10 * jnp.hstack((jnp.cos(X[:10]), X[10:]**2))\n",
    "%timeit newtons_method_inv(F, jnp.ones(28))\n",
    "%timeit newtons_method_solve(F, jnp.ones(28))\n",
    "%timeit newtons_method_inv_jit(F, jnp.ones(28))\n",
    "%timeit newtons_method_solve_jit(F, jnp.ones(28))"
   ]
  },
  {
   "cell_type": "code",
   "execution_count": 68,
   "metadata": {},
   "outputs": [
    {
     "name": "stdout",
     "output_type": "stream",
     "text": [
      "162 ms ± 9.13 ms per loop (mean ± std. dev. of 7 runs, 10 loops each)\n",
      "765 ms ± 32.8 ms per loop (mean ± std. dev. of 7 runs, 1 loop each)\n",
      "101 ms ± 946 μs per loop (mean ± std. dev. of 7 runs, 10 loops each)\n",
      "657 ms ± 22.1 ms per loop (mean ± std. dev. of 7 runs, 1 loop each)\n"
     ]
    }
   ],
   "source": [
    "def F(X):\n",
    "    resid_1 = 0.5 * X[:100]**2. - X[100:]**2.\n",
    "    resid_2 = jnp.linspace(0, 20**(1/4), 100)**4 + 2 * X[:100] - X[100:]\n",
    "    return jnp.hstack((resid_1, resid_2))\n",
    "%timeit newtons_method_inv(F, jnp.ones(200))\n",
    "%timeit newtons_method_solve(F, jnp.ones(200))\n",
    "%timeit newtons_method_inv_jit(F, jnp.ones(200))\n",
    "%timeit newtons_method_solve_jit(F, jnp.ones(200))"
   ]
  }
 ],
 "metadata": {
  "kernelspec": {
   "display_name": "base",
   "language": "python",
   "name": "python3"
  },
  "language_info": {
   "codemirror_mode": {
    "name": "ipython",
    "version": 3
   },
   "file_extension": ".py",
   "mimetype": "text/x-python",
   "name": "python",
   "nbconvert_exporter": "python",
   "pygments_lexer": "ipython3",
   "version": "3.12.4"
  }
 },
 "nbformat": 4,
 "nbformat_minor": 2
}
